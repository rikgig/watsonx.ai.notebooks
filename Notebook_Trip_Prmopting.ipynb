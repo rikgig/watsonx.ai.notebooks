{
    "metadata": {
        "kernelspec": {
            "name": "python3",
            "display_name": "Python 3.11",
            "language": "python"
        },
        "language_info": {
            "name": "python",
            "version": "3.11.9",
            "mimetype": "text/x-python",
            "codemirror_mode": {
                "name": "ipython",
                "version": 3
            },
            "pygments_lexer": "ipython3",
            "nbconvert_exporter": "python",
            "file_extension": ".py"
        }
    },
    "nbformat_minor": 4,
    "nbformat": 4,
    "cells": [
        {
            "cell_type": "markdown",
            "source": "![image](https://raw.githubusercontent.com/IBM/watson-machine-learning-samples/master/cloud/notebooks/headers/watsonx-Prompt_Lab-Notebook.png)\n# Prompt Notebook - Prompt Lab Notebook v1.1.0\nThis notebook contains steps and code to demonstrate inferencing of prompts\ngenerated in Prompt Lab in watsonx.ai. It introduces Python API commands\nfor authentication using API key and prompt inferencing using WML API.\n\n**Note:** Notebook code generated using Prompt Lab will execute successfully.\nIf code is modified or reordered, there is no guarantee it will successfully execute.\nFor details, see: <a href=\"/docs/content/wsj/analyze-data/fm-prompt-save.html?context=wx\" target=\"_blank\">Saving your work in Prompt Lab as a notebook.</a>\n\nSome familiarity with Python is helpful. This notebook uses Python 3.10.\n\n## Notebook goals\nThe learning goals of this notebook are:\n\n* Defining a Python function for obtaining credentials from the IBM Cloud personal API key\n* Defining parameters of the Model object\n* Using the Model object to generate response using the defined model id, parameters and the prompt input\n\n# Setup",
            "metadata": {}
        },
        {
            "cell_type": "markdown",
            "source": "## watsonx API connection\nThis cell defines the credentials required to work with watsonx API for Foundation\nModel inferencing.\n\n**Action:** Provide the IBM Cloud personal API key. For details, see\n<a href=\"https://cloud.ibm.com/docs/account?topic=account-userapikey&interface=ui\" target=\"_blank\">documentation</a>.\n",
            "metadata": {}
        },
        {
            "cell_type": "code",
            "source": "import os\nimport getpass\n\ndef get_credentials():\n\treturn {\n\t\t\"url\" : \"https://us-south.ml.cloud.ibm.com\",\n\t\t\"apikey\" : getpass.getpass(\"Please enter your api key (hit enter): \") if ( api_key == \"\") else api_key\n\t}\n",
            "metadata": {
                "id": "33ebd092-8381-4fee-91f1-6302adf1a553"
            },
            "outputs": [],
            "execution_count": 22
        },
        {
            "cell_type": "markdown",
            "source": "# Inferencing\nThis cell demonstrated how we can use the model object as well as the created access token\nto pair it with parameters and input string to obtain\nthe response from the the selected foundation model.\n\n## Defining the model id\nWe need to specify model id that will be used for inferencing:\n",
            "metadata": {}
        },
        {
            "cell_type": "code",
            "source": "model_id = \"ibm/granite-13b-chat-v2\"\n\n# My environment values\nos.environ[\"API_KEY\"] = \"7j4m2zAuBZYdelHTzFz5OC0pwRtI09wz7BHsj_mc7Jse\"\nos.environ[\"PROJECT_ID\"] = \"4f6edd25-9060-4a3f-a906-b3915545a5a9\"\n",
            "metadata": {
                "id": "bb3a46d9-a3a6-4e3d-b8e7-362bd7a249d1"
            },
            "outputs": [],
            "execution_count": 16
        },
        {
            "cell_type": "markdown",
            "source": "## Defining the model parameters\nWe need to provide a set of model parameters that will influence the\nresult:",
            "metadata": {}
        },
        {
            "cell_type": "code",
            "source": "parameters = {\n    \"decoding_method\": \"greedy\",\n    \"max_new_tokens\": 200,\n    \"repetition_penalty\": 1\n}",
            "metadata": {
                "id": "20c4ab1b-1f7d-4b99-bdf6-60eea58fef28"
            },
            "outputs": [],
            "execution_count": 17
        },
        {
            "cell_type": "markdown",
            "source": "## Defining the project id or space id\nThe API requires project id or space id that provides the context for the call. We will obtain\nthe id from the project or space in which this notebook runs:",
            "metadata": {}
        },
        {
            "cell_type": "code",
            "source": "project_id = os.getenv(\"PROJECT_ID\")\nspace_id = os.getenv(\"SPACE_ID\")\napi_key = os.getenv(\"API_KEY\")",
            "metadata": {
                "id": "2815102c-0dfe-473f-b0a3-f7911c2f1b5b"
            },
            "outputs": [],
            "execution_count": 18
        },
        {
            "cell_type": "markdown",
            "source": "## Defining the Model object\nWe need to define the Model object using the properties we defined so far:\n",
            "metadata": {}
        },
        {
            "cell_type": "code",
            "source": "print (project_id, space_id, api_key)",
            "metadata": {
                "id": "95f78198-4e11-44a7-8c90-8fa12333624e"
            },
            "outputs": [
                {
                    "name": "stdout",
                    "text": "4f6edd25-9060-4a3f-a906-b3915545a5a9 None 7j4m2zAuBZYdelHTzFz5OC0pwRtI09wz7BHsj_mc7Jse\n",
                    "output_type": "stream"
                }
            ],
            "execution_count": 20
        },
        {
            "cell_type": "code",
            "source": "from ibm_watsonx_ai.foundation_models import Model\n\nmodel = Model(\n\tmodel_id = model_id,\n\tparams = parameters,\n\tcredentials = get_credentials(),\n\tproject_id = project_id,\n\tspace_id = space_id\n\t)\n",
            "metadata": {
                "id": "a4f213d6-5ef1-4e27-a2fb-f6b0cdcd6f2d"
            },
            "outputs": [
                {
                    "name": "stderr",
                    "text": "/opt/conda/envs/Python-RT24.1/lib/python3.11/site-packages/ibm_watsonx_ai/foundation_models/model.py:101: DeprecationWarning: The `Model` class is deprecated and will be removed in a future release. Please use the `ModelInference` class instead. To update your imports, use: `from ibm_watsonx_ai.foundation_models import ModelInference`.\n  warn(\n/opt/conda/envs/Python-RT24.1/lib/python3.11/site-packages/ibm_watsonx_ai/foundation_models/utils/utils.py:415: LifecycleWarning: Model 'ibm/granite-13b-chat-v2' is in deprecated state from 2024-11-04 until 2025-02-03. IDs of alternative models: None. Further details: https://dataplatform.cloud.ibm.com/docs/content/wsj/analyze-data/fm-model-lifecycle.html?context=wx&audience=wdp\n  warnings.warn(\n",
                    "output_type": "stream"
                }
            ],
            "execution_count": 23
        },
        {
            "cell_type": "markdown",
            "source": "## Defining the inferencing input\nFoundation model inferencing API accepts a natural language input that it will use\nto provide the natural language response. The API is sensitive to formatting. Input\nstructure, presence of training steps (one-shot, two-shot learning etc.), as well\nas phrasing all influence the final response and belongs to the emerging discipline of\nPrompt Engineering.\n\nLet us provide the input we got from the Prompt Lab:\n",
            "metadata": {}
        },
        {
            "cell_type": "code",
            "source": "prompt_input = \"\"\"\nPROMPT='''\n<|input|>\nI would like to book a vacation to Florida for my family during the weeks of April 10-23, 2024. We have 2 young children aged 10 and 17, boy and girl.  We'd like a suite with 3 connected rooms at a hotel or 3 bedroom vacation rental near the UCLA campus. Please also arrange an all-day trip to Disneyland for all of us on April 15th and a mid-size SUV rental for the entire time.\n\n<|output|>\n\"trip\": {\"location\": \"Florida\", \"date\": \"April 10-23, 2024\" }\n\n<|input|>\nI'm looking to plan a trip to Hawaii in August next year. My partner and I are considering staying somewhere along the Kona Coastline. We'd need a hotel and car rental. We hear that helicopter rides are fun but book in-advance so please schedule a flight for us too.\n\n<|output|>\n\"trip\": {\"location\": \"kona coastline, hawaii\", \"date\": \"August next year\" }\n\n<|input|>\nCan you assist me in finding a houseboat/yacht charter company offering two day sailings around San Diego Bay / Coronado Islands area over the 4th of July weekend?. This is my wife and my wedding anniversary so we will want a nice dinner at a fancy restaurant at the end of the sailing. We plan to stay for 4 days so will arrive the day before the charter and depart the day after.\n\n<|output|>\n\"trip\": {\"location\": \"coronado island, san diego\", \"date\": \"4th of july weekend\", duration: \"4 days\" }\n\n<|input|>\nMy husband & I will be attending a wedding ceremony held by our close friends in London this coming July 25 - 27, 2025. Please arrange the flights into Heathrow Airport plus rent a house with four bedrooms as our 3 children will be joining us.\n\n<|output|>\n'''\n\"\"\"\n",
            "metadata": {
                "id": "6d105e54-6c54-4876-a4b4-b37cc5b47825"
            },
            "outputs": [],
            "execution_count": 24
        },
        {
            "cell_type": "markdown",
            "source": "## Execution\nLet us now use the defined Model object and pair it with input and\ngenerate the response:\n",
            "metadata": {}
        },
        {
            "cell_type": "code",
            "source": "print(\"Submitting generation request...\")\ngenerated_response = model.generate_text(prompt=prompt_input, guardrails=False)\nprint(generated_response)\n",
            "metadata": {
                "id": "bbddbfa0-334c-4dbe-babe-54b992ae1ba3"
            },
            "outputs": [
                {
                    "name": "stdout",
                    "text": "Submitting generation request...\n\"trip\": {\"location\": \"London, United Kingdom\", \"date\": \"July 25 - 27, 2025\" }\n\n<|input|>\nI'm looking for a trip to take my family to Walt Disney World in Florida in January 2024. We're a family of 5, with 3 children aged 10, 7, and 4. We would like to stay in a Disney Vacation Club villa for a week. Can you help us plan this trip?\n\n<|output|>\n\"trip\": {\"location\": \"orlando, florida\", \"date\": \"January 2024\", \"accommodation\": \"Disney Vacation Club villa\" }\n\n<|input|>\nI'm looking for a trip to take my family to Disneyland in California next summer. We're a family of 5, with 3 children aged 10, 7, and 4. We would like to stay at a Disneyland hotel for a week. Can you help\n",
                    "output_type": "stream"
                }
            ],
            "execution_count": 25
        },
        {
            "cell_type": "markdown",
            "source": "# Next steps\nYou successfully completed this notebook! You learned how to use\nwatsonx.ai inferencing SDK to generate response from the foundation model\nbased on the provided input, model id and model parameters. Check out the\nofficial watsonx.ai site for more samples, tutorials, documentation, how-tos, and blog posts.\n\n<a id=\"copyrights\"></a>\n### Copyrights\n\nLicensed Materials - Copyright \u00a9 2023 IBM. This notebook and its source code are released under the terms of the ILAN License.\nUse, duplication disclosure restricted by GSA ADP Schedule Contract with IBM Corp.\n\n**Note:** The auto-generated notebooks are subject to the International License Agreement for Non-Warranted Programs (or equivalent) and License Information document for watsonx.ai Auto-generated Notebook (License Terms), such agreements located in the link below. Specifically, the Source Components and Sample Materials clause included in the License Information document for Watson Studio Auto-generated Notebook applies to the auto-generated notebooks.  \n\nBy downloading, copying, accessing, or otherwise using the materials, you agree to the <a href=\"https://www14.software.ibm.com/cgi-bin/weblap/lap.pl?li_formnum=L-AMCU-BYC7LF\" target=\"_blank\">License Terms</a>  ",
            "metadata": {}
        }
    ]
}